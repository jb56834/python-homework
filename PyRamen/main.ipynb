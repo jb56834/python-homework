{
 "cells": [
  {
   "cell_type": "code",
   "execution_count": 1,
   "metadata": {},
   "outputs": [],
   "source": [
    "# PyRamen main\n",
    "\n",
    "# import libraries\n",
    "from pathlib import Path\n",
    "import csv\n",
    "import pandas as pd\n",
    "\n",
    "# Step 1. Read Data\n",
    "csvpath_menu = Path(\"menu_data.csv\")\n",
    "csvpath_sales = Path(\"sales_data.csv\")\n",
    "\n",
    "menu_dataframe = pd.read_csv(csvpath_menu)\n",
    "sales_dataframe = pd.read_csv(csvpath_sales)\n",
    "\n",
    "# menu_dataframe.head(2)\n",
    "\n",
    "menu = menu_dataframe.values.tolist()\n",
    "sales = sales_dataframe.values.tolist()"
   ]
  },
  {
   "cell_type": "code",
   "execution_count": 5,
   "metadata": {},
   "outputs": [
    {
     "name": "stdout",
     "output_type": "stream",
     "text": [
      "spicy miso ramen {'01-count': 9238, '02-revenue': 110856.0, '03-cogs': 46190.0, '04-profit': 64666.0}\n",
      "tori paitan ramen {'01-count': 9156, '02-revenue': 119028.0, '03-cogs': 54936.0, '04-profit': 64092.0}\n",
      "truffle butter ramen {'01-count': 8982, '02-revenue': 125748.0, '03-cogs': 62874.0, '04-profit': 62874.0}\n",
      "tonkotsu ramen {'01-count': 9288, '02-revenue': 120744.0, '03-cogs': 55728.0, '04-profit': 65016.0}\n",
      "vegetarian spicy miso {'01-count': 9216, '02-revenue': 110592.0, '03-cogs': 46080.0, '04-profit': 64512.0}\n",
      "shio ramen {'01-count': 9180, '02-revenue': 100980.0, '03-cogs': 45900.0, '04-profit': 55080.0}\n",
      "miso crab ramen {'01-count': 8890, '02-revenue': 106680.0, '03-cogs': 53340.0, '04-profit': 53340.0}\n",
      "nagomi shoyu {'01-count': 9132, '02-revenue': 100452.0, '03-cogs': 45660.0, '04-profit': 54792.0}\n",
      "soft-shell miso crab ramen {'01-count': 9130, '02-revenue': 127820.0, '03-cogs': 63910.0, '04-profit': 63910.0}\n",
      "burnt garlic tonkotsu ramen {'01-count': 9070, '02-revenue': 126980.0, '03-cogs': 54420.0, '04-profit': 72560.0}\n",
      "vegetarian curry + king trumpet mushroom ramen {'01-count': 8824, '02-revenue': 114712.0, '03-cogs': 61768.0, '04-profit': 52944.0}\n",
      "\n"
     ]
    }
   ],
   "source": [
    "# Step 2. Manipulate Data\n",
    "# initialize report dict\n",
    "report = {}\n",
    "\n",
    "# loop through every row in sales\n",
    "for row_sales in sales:\n",
    "    quantity = int(row_sales[3])\n",
    "    sales_item = row_sales[4]\n",
    "    # check if sales_item already in report dict\n",
    "    if sales_item not in report.keys():\n",
    "        report[sales_item] = {\"01-count\": 0, \"02-revenue\": 0, \"03-cogs\": 0, \"04-profit\": 0}\n",
    "    \n",
    "    match = False\n",
    "    # nested loop through every row in menu\n",
    "    for row_menu in menu:\n",
    "        item = row_menu[0]\n",
    "        price = float(row_menu[3])\n",
    "        cost = float(row_menu[4])\n",
    "        profit = price - cost\n",
    "        if sales_item == item:\n",
    "            match = True\n",
    "            report[sales_item][\"01-count\"] += quantity\n",
    "            report[sales_item][\"02-revenue\"] += price * quantity\n",
    "            report[sales_item][\"03-cogs\"] += cost * quantity\n",
    "            report[sales_item][\"04-profit\"] += profit * quantity\n",
    "    \n",
    "    # print out error message if no sales_item matched in menu\n",
    "    if not match:\n",
    "        print(f\"{sales_item} does not equal to any item in menu! NO MATCH!\")\n",
    "\n",
    "# write content of report to a txt file\n",
    "output_path = Path(\"output.txt\")\n",
    "with open(output_path, 'w') as file:\n",
    "    for (k, v) in report.items():\n",
    "        file.write(f\"{k} {v}\\n\")\n",
    "    \n",
    "with open(output_path, 'r') as file:\n",
    "    text = file.read()\n",
    "    print(text)\n"
   ]
  },
  {
   "cell_type": "code",
   "execution_count": null,
   "metadata": {},
   "outputs": [],
   "source": []
  }
 ],
 "metadata": {
  "kernelspec": {
   "display_name": "Python 3",
   "language": "python",
   "name": "python3"
  },
  "language_info": {
   "codemirror_mode": {
    "name": "ipython",
    "version": 3
   },
   "file_extension": ".py",
   "mimetype": "text/x-python",
   "name": "python",
   "nbconvert_exporter": "python",
   "pygments_lexer": "ipython3",
   "version": "3.7.6"
  }
 },
 "nbformat": 4,
 "nbformat_minor": 4
}
