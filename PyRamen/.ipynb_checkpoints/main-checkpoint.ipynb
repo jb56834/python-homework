{
 "cells": [
  {
   "cell_type": "code",
   "execution_count": null,
   "metadata": {},
   "outputs": [],
   "source": [
    "# PyRamen main\n",
    "\n",
    "# import libraries\n",
    "from pathlib import Path\n",
    "import csv\n",
    "import pandas as pd\n",
    "\n",
    "# Step 1. Read Data\n",
    "csvpath_menu = Path(\"menu_data.csv\")\n",
    "csvpath_sales = Path(\"sales_data.csv\")\n",
    "\n",
    "menu_dataframe = pd.read_csv(csvpath_menu)\n",
    "sales_dataframe = pd.read_csv(csvpath_sales)\n",
    "\n",
    "# menu_dataframe.head(2)\n",
    "\n",
    "menu = menu_dataframe.values.tolist()\n",
    "sales = sales_dataframe.values.tolist()"
   ]
  },
  {
   "cell_type": "code",
   "execution_count": null,
   "metadata": {},
   "outputs": [],
   "source": [
    "# Step 2. Manipulate Data\n",
    "# initialize report dict\n",
    "report = {}\n",
    "\n",
    "# loop through every row in sales\n",
    "for row_sales in sales:\n",
    "    quantity = int(row_sales[3])\n",
    "    sales_item = row_sales[4]\n",
    "    # check if sales_item already in report dict\n",
    "    if sales_item not in report.keys():\n",
    "        report[sales_item] = {\"01-count\": 0, \"02-revenue\": 0, \"03-cogs\": 0, \"04-profit\": 0}\n",
    "    \n",
    "    match = False\n",
    "    # nested loop through every row in menu\n",
    "    for row_menu in menu:\n",
    "        item = row_menu[0]\n",
    "        price = float(row_menu[3])\n",
    "        cost = float(row_menu[4])\n",
    "        profit = price - cost\n",
    "        if sales_item == item:\n",
    "            report[sales_item][\"01-count\"] += quantity\n",
    "            report[sales_item][\"02-revenue\"] += price * quantity\n",
    "            report[sales_item][\"03-cogs\"] += cost * quantity\n",
    "            report[sales_item][\"04-profit\"] += profit * quantity\n",
    "    \n",
    "    # print out error message if no sales_item matched in menu\n",
    "    if not match:\n",
    "        print(f\"{sales_item} does not equal to any item in menu! NO MATCH!\")\n",
    "    \n",
    "\n"
   ]
  },
  {
   "cell_type": "code",
   "execution_count": null,
   "metadata": {},
   "outputs": [],
   "source": []
  }
 ],
 "metadata": {
  "kernelspec": {
   "display_name": "Python 3",
   "language": "python",
   "name": "python3"
  },
  "language_info": {
   "codemirror_mode": {
    "name": "ipython",
    "version": 3
   },
   "file_extension": ".py",
   "mimetype": "text/x-python",
   "name": "python",
   "nbconvert_exporter": "python",
   "pygments_lexer": "ipython3",
   "version": "3.7.6"
  }
 },
 "nbformat": 4,
 "nbformat_minor": 4
}
