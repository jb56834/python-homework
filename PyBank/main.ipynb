{
 "cells": [
  {
   "cell_type": "code",
   "execution_count": 1,
   "metadata": {},
   "outputs": [],
   "source": [
    "# PyBank Main\n",
    "\n",
    "# import library\n",
    "from pathlib import Path\n",
    "import csv\n"
   ]
  },
  {
   "cell_type": "code",
   "execution_count": 19,
   "metadata": {},
   "outputs": [
    {
     "name": "stdout",
     "output_type": "stream",
     "text": [
      "Financial Analysis\n",
      "---------------------------\n",
      "Total Months: 86\n",
      "Total: $38382578\n",
      "Average Change: $-2315.12\n",
      "Greates Increase in Profits: Feb-2012 ($1926159)\n",
      "Greates Increase in Profits: Sep-2013 ($-2196167)\n"
     ]
    }
   ],
   "source": [
    "# import csv data\n",
    "\n",
    "def pybank_main():\n",
    "    \n",
    "    # initialization\n",
    "    csvpath = Path(\"budget_data.csv\")\n",
    "    records = []\n",
    "    changes = []\n",
    "    num_months = 0\n",
    "    total_pnl = 0\n",
    "    avg_pnl_change = 0\n",
    "    max_pnl_change = 0\n",
    "    min_pnl_change = 0\n",
    "    \n",
    "    with open(csvpath, 'r') as csvfile: \n",
    "        csvreader = csv.reader(csvfile, delimiter = ',')\n",
    "        header = next(csvreader)\n",
    "        \n",
    "        # add column names to records\n",
    "        records.append(header)\n",
    "        \n",
    "        # iter through each month and pnl\n",
    "        for row in csvreader: \n",
    "            date = row[0]\n",
    "            pnl = int(row[1])   \n",
    "            num_months += 1\n",
    "            total_pnl += pnl\n",
    "            \n",
    "            if num_months == 1: \n",
    "                change = 0\n",
    "                records.append([date, pnl, change])\n",
    "            else:\n",
    "                change = pnl - records[num_months - 1][1]\n",
    "                records.append([date, pnl, change])\n",
    "            changes.append(change)\n",
    "            # find max and min pnl\n",
    "            if change > max_pnl_change: \n",
    "                max_pnl_change = change\n",
    "                max_pnl_date = date\n",
    "            elif change < min_pnl_change:\n",
    "                min_pnl_change = change\n",
    "                min_pnl_date = date  \n",
    "            \n",
    "    # calculate results\n",
    "    avg_pnl_change = round(sum(changes)/(len(changes) - 1),2)\n",
    "    total_pnl = int(total_pnl)\n",
    "    # print results\n",
    "    print(\"Financial Analysis\\n---------------------------\")\n",
    "    print(f\"Total Months: {num_months}\")\n",
    "    print(f\"Total: ${total_pnl}\")\n",
    "    print(f\"Average Change: ${avg_pnl_change}\")\n",
    "    print(f\"Greates Increase in Profits: {max_pnl_date} (${max_pnl_change})\")\n",
    "    print(f\"Greates Increase in Profits: {min_pnl_date} (${min_pnl_change})\")\n",
    "    \n",
    "# test: \n",
    "pybank_main()\n",
    "\n",
    "# Financial Analysis\n",
    "# ----------------------------\n",
    "# Total Months: 86\n",
    "# Total: $38382578\n",
    "# Average  Change: $-2315.12\n",
    "# Greatest Increase in Profits: Feb-2012 ($1926159)\n",
    "# Greatest Decrease in Profits: Sep-2013 ($-2196167)"
   ]
  },
  {
   "cell_type": "code",
   "execution_count": null,
   "metadata": {},
   "outputs": [],
   "source": []
  }
 ],
 "metadata": {
  "kernelspec": {
   "display_name": "Python 3",
   "language": "python",
   "name": "python3"
  },
  "language_info": {
   "codemirror_mode": {
    "name": "ipython",
    "version": 3
   },
   "file_extension": ".py",
   "mimetype": "text/x-python",
   "name": "python",
   "nbconvert_exporter": "python",
   "pygments_lexer": "ipython3",
   "version": "3.7.6"
  }
 },
 "nbformat": 4,
 "nbformat_minor": 4
}
